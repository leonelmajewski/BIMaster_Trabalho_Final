{
 "cells": [
  {
   "cell_type": "code",
   "execution_count": 1,
   "metadata": {},
   "outputs": [],
   "source": [
    "import os\n",
    "import pandas as pd\n",
    "from operator import index"
   ]
  },
  {
   "cell_type": "code",
   "execution_count": 2,
   "metadata": {},
   "outputs": [],
   "source": [
    "leitura_arquivos_chamados = \"E:/BI_Master_2021/TCC/Extração_CSAT_20.09.2022/Chamados_Encerrados/\"\n",
    "leitura_arquivos_pesquisas = \"E:/BI_Master_2021/TCC/Extração_CSAT_20.09.2022/Comentarios_Pesquisas/\"\n",
    "gravacao_arquivos = \"E:/BI_Master_2021/TCC/ETL_saida/\""
   ]
  },
  {
   "cell_type": "code",
   "execution_count": 3,
   "metadata": {},
   "outputs": [
    {
     "name": "stdout",
     "output_type": "stream",
     "text": [
      "['01_Janeiro.21.xlsx', '02_Fevereiro.21.xlsx', '03_Marco.21.xlsx', '04_Abril.21.xlsx', '05_Maio.21.xlsx', '06_Junho.21.xlsx', '07_Julho.21.xlsx', '08_Agosto.21.xlsx', '09_Setembro.21.xlsx', '10_Outubro.21.xlsx', '11_Novembro.21.xlsx', '12_Dezembro.21.xlsx', '13_Janeiro.22.xlsx', '14_Fevereiro.22.xlsx', '15_Marco.22.xlsx', '16_Abril.22.xlsx', '17_Maio.22.xlsx', '18_Junho.22.xlsx', '19_Julho.22.xlsx', '20_Agosto.22.xlsx']\n"
     ]
    }
   ],
   "source": [
    "lista_entrada_chamados = os.listdir(\"E:/BI_Master_2021/TCC/Extração_CSAT_20.09.2022/Chamados_Encerrados/\")\n",
    "print (lista_entrada_chamados)"
   ]
  },
  {
   "cell_type": "code",
   "execution_count": 4,
   "metadata": {},
   "outputs": [
    {
     "name": "stdout",
     "output_type": "stream",
     "text": [
      "['01_Janeiro.21.xlsx', '02_Fevereiro.21.xlsx', '03_Marco.21.xlsx', '04_Abril.21.xlsx', '05_Maio.21.xlsx', '06_Junho.21.xlsx', '07_Julho.21.xlsx', '08_Agosto.21.xlsx', '09_Setembro.21.xlsx', '10_Outubro.21.xlsx', '11_Novembro.21.xlsx', '12_Dezembro.21.xlsx', '13_Janeiro.22.xlsx', '14_Fevereiro.22.xlsx', '15_Marco.22.xlsx', '16_Abril.22.xlsx', '17_Maio.22.xlsx', '18_Junho.22.xlsx', '19_Julho.22.xlsx', '20_Agosto.22.xlsx']\n"
     ]
    }
   ],
   "source": [
    "lista_entrada_pesquisas = os.listdir(\"E:/BI_Master_2021/TCC/Extração_CSAT_20.09.2022/Comentarios_Pesquisas/\")\n",
    "print (lista_entrada_pesquisas)"
   ]
  },
  {
   "cell_type": "code",
   "execution_count": 5,
   "metadata": {},
   "outputs": [],
   "source": [
    "df_chamados = pd.DataFrame()\n",
    "df_pesquisas = pd.DataFrame()\n",
    "df = pd.DataFrame()\n",
    "df1 = pd.DataFrame()"
   ]
  },
  {
   "cell_type": "code",
   "execution_count": 6,
   "metadata": {
    "scrolled": true
   },
   "outputs": [
    {
     "name": "stdout",
     "output_type": "stream",
     "text": [
      "Carregando arquivo {0}... 01_Janeiro.21.xlsx\n"
     ]
    },
    {
     "name": "stderr",
     "output_type": "stream",
     "text": [
      "C:\\Users\\leone\\AppData\\Local\\Temp\\ipykernel_3300\\4163644185.py:6: FutureWarning: The frame.append method is deprecated and will be removed from pandas in a future version. Use pandas.concat instead.\n",
      "  df = df.append(pd.read_excel(leitura_arquivos_chamados+entrada_chamados), ignore_index=True)\n"
     ]
    },
    {
     "name": "stdout",
     "output_type": "stream",
     "text": [
      "Carregando arquivo {0}... 02_Fevereiro.21.xlsx\n"
     ]
    },
    {
     "name": "stderr",
     "output_type": "stream",
     "text": [
      "C:\\Users\\leone\\AppData\\Local\\Temp\\ipykernel_3300\\4163644185.py:6: FutureWarning: The frame.append method is deprecated and will be removed from pandas in a future version. Use pandas.concat instead.\n",
      "  df = df.append(pd.read_excel(leitura_arquivos_chamados+entrada_chamados), ignore_index=True)\n"
     ]
    },
    {
     "name": "stdout",
     "output_type": "stream",
     "text": [
      "Carregando arquivo {0}... 03_Marco.21.xlsx\n"
     ]
    },
    {
     "name": "stderr",
     "output_type": "stream",
     "text": [
      "C:\\Users\\leone\\AppData\\Local\\Temp\\ipykernel_3300\\4163644185.py:6: FutureWarning: The frame.append method is deprecated and will be removed from pandas in a future version. Use pandas.concat instead.\n",
      "  df = df.append(pd.read_excel(leitura_arquivos_chamados+entrada_chamados), ignore_index=True)\n"
     ]
    },
    {
     "name": "stdout",
     "output_type": "stream",
     "text": [
      "Carregando arquivo {0}... 04_Abril.21.xlsx\n"
     ]
    },
    {
     "name": "stderr",
     "output_type": "stream",
     "text": [
      "C:\\Users\\leone\\AppData\\Local\\Temp\\ipykernel_3300\\4163644185.py:6: FutureWarning: The frame.append method is deprecated and will be removed from pandas in a future version. Use pandas.concat instead.\n",
      "  df = df.append(pd.read_excel(leitura_arquivos_chamados+entrada_chamados), ignore_index=True)\n"
     ]
    },
    {
     "name": "stdout",
     "output_type": "stream",
     "text": [
      "Carregando arquivo {0}... 05_Maio.21.xlsx\n"
     ]
    },
    {
     "name": "stderr",
     "output_type": "stream",
     "text": [
      "C:\\Users\\leone\\AppData\\Local\\Temp\\ipykernel_3300\\4163644185.py:6: FutureWarning: The frame.append method is deprecated and will be removed from pandas in a future version. Use pandas.concat instead.\n",
      "  df = df.append(pd.read_excel(leitura_arquivos_chamados+entrada_chamados), ignore_index=True)\n"
     ]
    },
    {
     "name": "stdout",
     "output_type": "stream",
     "text": [
      "Carregando arquivo {0}... 06_Junho.21.xlsx\n"
     ]
    },
    {
     "name": "stderr",
     "output_type": "stream",
     "text": [
      "C:\\Users\\leone\\AppData\\Local\\Temp\\ipykernel_3300\\4163644185.py:6: FutureWarning: The frame.append method is deprecated and will be removed from pandas in a future version. Use pandas.concat instead.\n",
      "  df = df.append(pd.read_excel(leitura_arquivos_chamados+entrada_chamados), ignore_index=True)\n"
     ]
    },
    {
     "name": "stdout",
     "output_type": "stream",
     "text": [
      "Carregando arquivo {0}... 07_Julho.21.xlsx\n"
     ]
    },
    {
     "name": "stderr",
     "output_type": "stream",
     "text": [
      "C:\\Users\\leone\\AppData\\Local\\Temp\\ipykernel_3300\\4163644185.py:6: FutureWarning: The frame.append method is deprecated and will be removed from pandas in a future version. Use pandas.concat instead.\n",
      "  df = df.append(pd.read_excel(leitura_arquivos_chamados+entrada_chamados), ignore_index=True)\n"
     ]
    },
    {
     "name": "stdout",
     "output_type": "stream",
     "text": [
      "Carregando arquivo {0}... 08_Agosto.21.xlsx\n"
     ]
    },
    {
     "name": "stderr",
     "output_type": "stream",
     "text": [
      "C:\\Users\\leone\\AppData\\Local\\Temp\\ipykernel_3300\\4163644185.py:6: FutureWarning: The frame.append method is deprecated and will be removed from pandas in a future version. Use pandas.concat instead.\n",
      "  df = df.append(pd.read_excel(leitura_arquivos_chamados+entrada_chamados), ignore_index=True)\n"
     ]
    },
    {
     "name": "stdout",
     "output_type": "stream",
     "text": [
      "Carregando arquivo {0}... 09_Setembro.21.xlsx\n"
     ]
    },
    {
     "name": "stderr",
     "output_type": "stream",
     "text": [
      "C:\\Users\\leone\\AppData\\Local\\Temp\\ipykernel_3300\\4163644185.py:6: FutureWarning: The frame.append method is deprecated and will be removed from pandas in a future version. Use pandas.concat instead.\n",
      "  df = df.append(pd.read_excel(leitura_arquivos_chamados+entrada_chamados), ignore_index=True)\n"
     ]
    },
    {
     "name": "stdout",
     "output_type": "stream",
     "text": [
      "Carregando arquivo {0}... 10_Outubro.21.xlsx\n"
     ]
    },
    {
     "name": "stderr",
     "output_type": "stream",
     "text": [
      "C:\\Users\\leone\\AppData\\Local\\Temp\\ipykernel_3300\\4163644185.py:6: FutureWarning: The frame.append method is deprecated and will be removed from pandas in a future version. Use pandas.concat instead.\n",
      "  df = df.append(pd.read_excel(leitura_arquivos_chamados+entrada_chamados), ignore_index=True)\n"
     ]
    },
    {
     "name": "stdout",
     "output_type": "stream",
     "text": [
      "Carregando arquivo {0}... 11_Novembro.21.xlsx\n"
     ]
    },
    {
     "name": "stderr",
     "output_type": "stream",
     "text": [
      "C:\\Users\\leone\\AppData\\Local\\Temp\\ipykernel_3300\\4163644185.py:6: FutureWarning: The frame.append method is deprecated and will be removed from pandas in a future version. Use pandas.concat instead.\n",
      "  df = df.append(pd.read_excel(leitura_arquivos_chamados+entrada_chamados), ignore_index=True)\n"
     ]
    },
    {
     "name": "stdout",
     "output_type": "stream",
     "text": [
      "Carregando arquivo {0}... 12_Dezembro.21.xlsx\n"
     ]
    },
    {
     "name": "stderr",
     "output_type": "stream",
     "text": [
      "C:\\Users\\leone\\AppData\\Local\\Temp\\ipykernel_3300\\4163644185.py:6: FutureWarning: The frame.append method is deprecated and will be removed from pandas in a future version. Use pandas.concat instead.\n",
      "  df = df.append(pd.read_excel(leitura_arquivos_chamados+entrada_chamados), ignore_index=True)\n"
     ]
    },
    {
     "name": "stdout",
     "output_type": "stream",
     "text": [
      "Carregando arquivo {0}... 13_Janeiro.22.xlsx\n"
     ]
    },
    {
     "name": "stderr",
     "output_type": "stream",
     "text": [
      "C:\\Users\\leone\\AppData\\Local\\Temp\\ipykernel_3300\\4163644185.py:6: FutureWarning: The frame.append method is deprecated and will be removed from pandas in a future version. Use pandas.concat instead.\n",
      "  df = df.append(pd.read_excel(leitura_arquivos_chamados+entrada_chamados), ignore_index=True)\n"
     ]
    },
    {
     "name": "stdout",
     "output_type": "stream",
     "text": [
      "Carregando arquivo {0}... 14_Fevereiro.22.xlsx\n"
     ]
    },
    {
     "name": "stderr",
     "output_type": "stream",
     "text": [
      "C:\\Users\\leone\\AppData\\Local\\Temp\\ipykernel_3300\\4163644185.py:6: FutureWarning: The frame.append method is deprecated and will be removed from pandas in a future version. Use pandas.concat instead.\n",
      "  df = df.append(pd.read_excel(leitura_arquivos_chamados+entrada_chamados), ignore_index=True)\n"
     ]
    },
    {
     "name": "stdout",
     "output_type": "stream",
     "text": [
      "Carregando arquivo {0}... 15_Marco.22.xlsx\n"
     ]
    },
    {
     "name": "stderr",
     "output_type": "stream",
     "text": [
      "C:\\Users\\leone\\AppData\\Local\\Temp\\ipykernel_3300\\4163644185.py:6: FutureWarning: The frame.append method is deprecated and will be removed from pandas in a future version. Use pandas.concat instead.\n",
      "  df = df.append(pd.read_excel(leitura_arquivos_chamados+entrada_chamados), ignore_index=True)\n"
     ]
    },
    {
     "name": "stdout",
     "output_type": "stream",
     "text": [
      "Carregando arquivo {0}... 16_Abril.22.xlsx\n"
     ]
    },
    {
     "name": "stderr",
     "output_type": "stream",
     "text": [
      "C:\\Users\\leone\\AppData\\Local\\Temp\\ipykernel_3300\\4163644185.py:6: FutureWarning: The frame.append method is deprecated and will be removed from pandas in a future version. Use pandas.concat instead.\n",
      "  df = df.append(pd.read_excel(leitura_arquivos_chamados+entrada_chamados), ignore_index=True)\n"
     ]
    },
    {
     "name": "stdout",
     "output_type": "stream",
     "text": [
      "Carregando arquivo {0}... 17_Maio.22.xlsx\n"
     ]
    },
    {
     "name": "stderr",
     "output_type": "stream",
     "text": [
      "C:\\Users\\leone\\AppData\\Local\\Temp\\ipykernel_3300\\4163644185.py:6: FutureWarning: The frame.append method is deprecated and will be removed from pandas in a future version. Use pandas.concat instead.\n",
      "  df = df.append(pd.read_excel(leitura_arquivos_chamados+entrada_chamados), ignore_index=True)\n"
     ]
    },
    {
     "name": "stdout",
     "output_type": "stream",
     "text": [
      "Carregando arquivo {0}... 18_Junho.22.xlsx\n"
     ]
    },
    {
     "name": "stderr",
     "output_type": "stream",
     "text": [
      "C:\\Users\\leone\\AppData\\Local\\Temp\\ipykernel_3300\\4163644185.py:6: FutureWarning: The frame.append method is deprecated and will be removed from pandas in a future version. Use pandas.concat instead.\n",
      "  df = df.append(pd.read_excel(leitura_arquivos_chamados+entrada_chamados), ignore_index=True)\n"
     ]
    },
    {
     "name": "stdout",
     "output_type": "stream",
     "text": [
      "Carregando arquivo {0}... 19_Julho.22.xlsx\n"
     ]
    },
    {
     "name": "stderr",
     "output_type": "stream",
     "text": [
      "C:\\Users\\leone\\AppData\\Local\\Temp\\ipykernel_3300\\4163644185.py:6: FutureWarning: The frame.append method is deprecated and will be removed from pandas in a future version. Use pandas.concat instead.\n",
      "  df = df.append(pd.read_excel(leitura_arquivos_chamados+entrada_chamados), ignore_index=True)\n"
     ]
    },
    {
     "name": "stdout",
     "output_type": "stream",
     "text": [
      "Carregando arquivo {0}... 20_Agosto.22.xlsx\n"
     ]
    },
    {
     "name": "stderr",
     "output_type": "stream",
     "text": [
      "C:\\Users\\leone\\AppData\\Local\\Temp\\ipykernel_3300\\4163644185.py:6: FutureWarning: The frame.append method is deprecated and will be removed from pandas in a future version. Use pandas.concat instead.\n",
      "  df = df.append(pd.read_excel(leitura_arquivos_chamados+entrada_chamados), ignore_index=True)\n"
     ]
    }
   ],
   "source": [
    "linhas_apagar = 2\n",
    "for entrada_chamados in lista_entrada_chamados:\n",
    "    if entrada_chamados.endswith(\".xlsx\"):\n",
    "        print('Carregando arquivo {0}...',format(entrada_chamados))\n",
    "        df = df[:-2]\n",
    "        df = df.append(pd.read_excel(leitura_arquivos_chamados+entrada_chamados), ignore_index=True)"
   ]
  },
  {
   "cell_type": "code",
   "execution_count": 7,
   "metadata": {},
   "outputs": [
    {
     "name": "stdout",
     "output_type": "stream",
     "text": [
      "Carregando arquivo {0}... 01_Janeiro.21.xlsx\n"
     ]
    },
    {
     "name": "stderr",
     "output_type": "stream",
     "text": [
      "C:\\Users\\leone\\miniconda3\\lib\\site-packages\\openpyxl\\styles\\stylesheet.py:226: UserWarning: Workbook contains no default style, apply openpyxl's default\n",
      "  warn(\"Workbook contains no default style, apply openpyxl's default\")\n",
      "C:\\Users\\leone\\AppData\\Local\\Temp\\ipykernel_3300\\2339940194.py:6: FutureWarning: The frame.append method is deprecated and will be removed from pandas in a future version. Use pandas.concat instead.\n",
      "  df1 = df1.append(pd.read_excel(leitura_arquivos_pesquisas+entrada_pesquisas), ignore_index=True)\n",
      "C:\\Users\\leone\\miniconda3\\lib\\site-packages\\openpyxl\\styles\\stylesheet.py:226: UserWarning: Workbook contains no default style, apply openpyxl's default\n",
      "  warn(\"Workbook contains no default style, apply openpyxl's default\")\n"
     ]
    },
    {
     "name": "stdout",
     "output_type": "stream",
     "text": [
      "Carregando arquivo {0}... 02_Fevereiro.21.xlsx\n"
     ]
    },
    {
     "name": "stderr",
     "output_type": "stream",
     "text": [
      "C:\\Users\\leone\\AppData\\Local\\Temp\\ipykernel_3300\\2339940194.py:6: FutureWarning: The frame.append method is deprecated and will be removed from pandas in a future version. Use pandas.concat instead.\n",
      "  df1 = df1.append(pd.read_excel(leitura_arquivos_pesquisas+entrada_pesquisas), ignore_index=True)\n",
      "C:\\Users\\leone\\miniconda3\\lib\\site-packages\\openpyxl\\styles\\stylesheet.py:226: UserWarning: Workbook contains no default style, apply openpyxl's default\n",
      "  warn(\"Workbook contains no default style, apply openpyxl's default\")\n"
     ]
    },
    {
     "name": "stdout",
     "output_type": "stream",
     "text": [
      "Carregando arquivo {0}... 03_Marco.21.xlsx\n"
     ]
    },
    {
     "name": "stderr",
     "output_type": "stream",
     "text": [
      "C:\\Users\\leone\\AppData\\Local\\Temp\\ipykernel_3300\\2339940194.py:6: FutureWarning: The frame.append method is deprecated and will be removed from pandas in a future version. Use pandas.concat instead.\n",
      "  df1 = df1.append(pd.read_excel(leitura_arquivos_pesquisas+entrada_pesquisas), ignore_index=True)\n",
      "C:\\Users\\leone\\miniconda3\\lib\\site-packages\\openpyxl\\styles\\stylesheet.py:226: UserWarning: Workbook contains no default style, apply openpyxl's default\n",
      "  warn(\"Workbook contains no default style, apply openpyxl's default\")\n"
     ]
    },
    {
     "name": "stdout",
     "output_type": "stream",
     "text": [
      "Carregando arquivo {0}... 04_Abril.21.xlsx\n"
     ]
    },
    {
     "name": "stderr",
     "output_type": "stream",
     "text": [
      "C:\\Users\\leone\\AppData\\Local\\Temp\\ipykernel_3300\\2339940194.py:6: FutureWarning: The frame.append method is deprecated and will be removed from pandas in a future version. Use pandas.concat instead.\n",
      "  df1 = df1.append(pd.read_excel(leitura_arquivos_pesquisas+entrada_pesquisas), ignore_index=True)\n",
      "C:\\Users\\leone\\miniconda3\\lib\\site-packages\\openpyxl\\styles\\stylesheet.py:226: UserWarning: Workbook contains no default style, apply openpyxl's default\n",
      "  warn(\"Workbook contains no default style, apply openpyxl's default\")\n"
     ]
    },
    {
     "name": "stdout",
     "output_type": "stream",
     "text": [
      "Carregando arquivo {0}... 05_Maio.21.xlsx\n"
     ]
    },
    {
     "name": "stderr",
     "output_type": "stream",
     "text": [
      "C:\\Users\\leone\\AppData\\Local\\Temp\\ipykernel_3300\\2339940194.py:6: FutureWarning: The frame.append method is deprecated and will be removed from pandas in a future version. Use pandas.concat instead.\n",
      "  df1 = df1.append(pd.read_excel(leitura_arquivos_pesquisas+entrada_pesquisas), ignore_index=True)\n",
      "C:\\Users\\leone\\miniconda3\\lib\\site-packages\\openpyxl\\styles\\stylesheet.py:226: UserWarning: Workbook contains no default style, apply openpyxl's default\n",
      "  warn(\"Workbook contains no default style, apply openpyxl's default\")\n"
     ]
    },
    {
     "name": "stdout",
     "output_type": "stream",
     "text": [
      "Carregando arquivo {0}... 06_Junho.21.xlsx\n"
     ]
    },
    {
     "name": "stderr",
     "output_type": "stream",
     "text": [
      "C:\\Users\\leone\\AppData\\Local\\Temp\\ipykernel_3300\\2339940194.py:6: FutureWarning: The frame.append method is deprecated and will be removed from pandas in a future version. Use pandas.concat instead.\n",
      "  df1 = df1.append(pd.read_excel(leitura_arquivos_pesquisas+entrada_pesquisas), ignore_index=True)\n",
      "C:\\Users\\leone\\miniconda3\\lib\\site-packages\\openpyxl\\styles\\stylesheet.py:226: UserWarning: Workbook contains no default style, apply openpyxl's default\n",
      "  warn(\"Workbook contains no default style, apply openpyxl's default\")\n"
     ]
    },
    {
     "name": "stdout",
     "output_type": "stream",
     "text": [
      "Carregando arquivo {0}... 07_Julho.21.xlsx\n"
     ]
    },
    {
     "name": "stderr",
     "output_type": "stream",
     "text": [
      "C:\\Users\\leone\\AppData\\Local\\Temp\\ipykernel_3300\\2339940194.py:6: FutureWarning: The frame.append method is deprecated and will be removed from pandas in a future version. Use pandas.concat instead.\n",
      "  df1 = df1.append(pd.read_excel(leitura_arquivos_pesquisas+entrada_pesquisas), ignore_index=True)\n",
      "C:\\Users\\leone\\miniconda3\\lib\\site-packages\\openpyxl\\styles\\stylesheet.py:226: UserWarning: Workbook contains no default style, apply openpyxl's default\n",
      "  warn(\"Workbook contains no default style, apply openpyxl's default\")\n"
     ]
    },
    {
     "name": "stdout",
     "output_type": "stream",
     "text": [
      "Carregando arquivo {0}... 08_Agosto.21.xlsx\n"
     ]
    },
    {
     "name": "stderr",
     "output_type": "stream",
     "text": [
      "C:\\Users\\leone\\AppData\\Local\\Temp\\ipykernel_3300\\2339940194.py:6: FutureWarning: The frame.append method is deprecated and will be removed from pandas in a future version. Use pandas.concat instead.\n",
      "  df1 = df1.append(pd.read_excel(leitura_arquivos_pesquisas+entrada_pesquisas), ignore_index=True)\n",
      "C:\\Users\\leone\\miniconda3\\lib\\site-packages\\openpyxl\\styles\\stylesheet.py:226: UserWarning: Workbook contains no default style, apply openpyxl's default\n",
      "  warn(\"Workbook contains no default style, apply openpyxl's default\")\n"
     ]
    },
    {
     "name": "stdout",
     "output_type": "stream",
     "text": [
      "Carregando arquivo {0}... 09_Setembro.21.xlsx\n"
     ]
    },
    {
     "name": "stderr",
     "output_type": "stream",
     "text": [
      "C:\\Users\\leone\\AppData\\Local\\Temp\\ipykernel_3300\\2339940194.py:6: FutureWarning: The frame.append method is deprecated and will be removed from pandas in a future version. Use pandas.concat instead.\n",
      "  df1 = df1.append(pd.read_excel(leitura_arquivos_pesquisas+entrada_pesquisas), ignore_index=True)\n",
      "C:\\Users\\leone\\miniconda3\\lib\\site-packages\\openpyxl\\styles\\stylesheet.py:226: UserWarning: Workbook contains no default style, apply openpyxl's default\n",
      "  warn(\"Workbook contains no default style, apply openpyxl's default\")\n"
     ]
    },
    {
     "name": "stdout",
     "output_type": "stream",
     "text": [
      "Carregando arquivo {0}... 10_Outubro.21.xlsx\n"
     ]
    },
    {
     "name": "stderr",
     "output_type": "stream",
     "text": [
      "C:\\Users\\leone\\AppData\\Local\\Temp\\ipykernel_3300\\2339940194.py:6: FutureWarning: The frame.append method is deprecated and will be removed from pandas in a future version. Use pandas.concat instead.\n",
      "  df1 = df1.append(pd.read_excel(leitura_arquivos_pesquisas+entrada_pesquisas), ignore_index=True)\n",
      "C:\\Users\\leone\\miniconda3\\lib\\site-packages\\openpyxl\\styles\\stylesheet.py:226: UserWarning: Workbook contains no default style, apply openpyxl's default\n",
      "  warn(\"Workbook contains no default style, apply openpyxl's default\")\n"
     ]
    },
    {
     "name": "stdout",
     "output_type": "stream",
     "text": [
      "Carregando arquivo {0}... 11_Novembro.21.xlsx\n"
     ]
    },
    {
     "name": "stderr",
     "output_type": "stream",
     "text": [
      "C:\\Users\\leone\\AppData\\Local\\Temp\\ipykernel_3300\\2339940194.py:6: FutureWarning: The frame.append method is deprecated and will be removed from pandas in a future version. Use pandas.concat instead.\n",
      "  df1 = df1.append(pd.read_excel(leitura_arquivos_pesquisas+entrada_pesquisas), ignore_index=True)\n",
      "C:\\Users\\leone\\miniconda3\\lib\\site-packages\\openpyxl\\styles\\stylesheet.py:226: UserWarning: Workbook contains no default style, apply openpyxl's default\n",
      "  warn(\"Workbook contains no default style, apply openpyxl's default\")\n"
     ]
    },
    {
     "name": "stdout",
     "output_type": "stream",
     "text": [
      "Carregando arquivo {0}... 12_Dezembro.21.xlsx\n"
     ]
    },
    {
     "name": "stderr",
     "output_type": "stream",
     "text": [
      "C:\\Users\\leone\\AppData\\Local\\Temp\\ipykernel_3300\\2339940194.py:6: FutureWarning: The frame.append method is deprecated and will be removed from pandas in a future version. Use pandas.concat instead.\n",
      "  df1 = df1.append(pd.read_excel(leitura_arquivos_pesquisas+entrada_pesquisas), ignore_index=True)\n",
      "C:\\Users\\leone\\miniconda3\\lib\\site-packages\\openpyxl\\styles\\stylesheet.py:226: UserWarning: Workbook contains no default style, apply openpyxl's default\n",
      "  warn(\"Workbook contains no default style, apply openpyxl's default\")\n"
     ]
    },
    {
     "name": "stdout",
     "output_type": "stream",
     "text": [
      "Carregando arquivo {0}... 13_Janeiro.22.xlsx\n"
     ]
    },
    {
     "name": "stderr",
     "output_type": "stream",
     "text": [
      "C:\\Users\\leone\\AppData\\Local\\Temp\\ipykernel_3300\\2339940194.py:6: FutureWarning: The frame.append method is deprecated and will be removed from pandas in a future version. Use pandas.concat instead.\n",
      "  df1 = df1.append(pd.read_excel(leitura_arquivos_pesquisas+entrada_pesquisas), ignore_index=True)\n",
      "C:\\Users\\leone\\miniconda3\\lib\\site-packages\\openpyxl\\styles\\stylesheet.py:226: UserWarning: Workbook contains no default style, apply openpyxl's default\n",
      "  warn(\"Workbook contains no default style, apply openpyxl's default\")\n"
     ]
    },
    {
     "name": "stdout",
     "output_type": "stream",
     "text": [
      "Carregando arquivo {0}... 14_Fevereiro.22.xlsx\n"
     ]
    },
    {
     "name": "stderr",
     "output_type": "stream",
     "text": [
      "C:\\Users\\leone\\AppData\\Local\\Temp\\ipykernel_3300\\2339940194.py:6: FutureWarning: The frame.append method is deprecated and will be removed from pandas in a future version. Use pandas.concat instead.\n",
      "  df1 = df1.append(pd.read_excel(leitura_arquivos_pesquisas+entrada_pesquisas), ignore_index=True)\n",
      "C:\\Users\\leone\\miniconda3\\lib\\site-packages\\openpyxl\\styles\\stylesheet.py:226: UserWarning: Workbook contains no default style, apply openpyxl's default\n",
      "  warn(\"Workbook contains no default style, apply openpyxl's default\")\n"
     ]
    },
    {
     "name": "stdout",
     "output_type": "stream",
     "text": [
      "Carregando arquivo {0}... 15_Marco.22.xlsx\n"
     ]
    },
    {
     "name": "stderr",
     "output_type": "stream",
     "text": [
      "C:\\Users\\leone\\AppData\\Local\\Temp\\ipykernel_3300\\2339940194.py:6: FutureWarning: The frame.append method is deprecated and will be removed from pandas in a future version. Use pandas.concat instead.\n",
      "  df1 = df1.append(pd.read_excel(leitura_arquivos_pesquisas+entrada_pesquisas), ignore_index=True)\n",
      "C:\\Users\\leone\\miniconda3\\lib\\site-packages\\openpyxl\\styles\\stylesheet.py:226: UserWarning: Workbook contains no default style, apply openpyxl's default\n",
      "  warn(\"Workbook contains no default style, apply openpyxl's default\")\n"
     ]
    },
    {
     "name": "stdout",
     "output_type": "stream",
     "text": [
      "Carregando arquivo {0}... 16_Abril.22.xlsx\n"
     ]
    },
    {
     "name": "stderr",
     "output_type": "stream",
     "text": [
      "C:\\Users\\leone\\AppData\\Local\\Temp\\ipykernel_3300\\2339940194.py:6: FutureWarning: The frame.append method is deprecated and will be removed from pandas in a future version. Use pandas.concat instead.\n",
      "  df1 = df1.append(pd.read_excel(leitura_arquivos_pesquisas+entrada_pesquisas), ignore_index=True)\n",
      "C:\\Users\\leone\\miniconda3\\lib\\site-packages\\openpyxl\\styles\\stylesheet.py:226: UserWarning: Workbook contains no default style, apply openpyxl's default\n",
      "  warn(\"Workbook contains no default style, apply openpyxl's default\")\n"
     ]
    },
    {
     "name": "stdout",
     "output_type": "stream",
     "text": [
      "Carregando arquivo {0}... 17_Maio.22.xlsx\n"
     ]
    },
    {
     "name": "stderr",
     "output_type": "stream",
     "text": [
      "C:\\Users\\leone\\AppData\\Local\\Temp\\ipykernel_3300\\2339940194.py:6: FutureWarning: The frame.append method is deprecated and will be removed from pandas in a future version. Use pandas.concat instead.\n",
      "  df1 = df1.append(pd.read_excel(leitura_arquivos_pesquisas+entrada_pesquisas), ignore_index=True)\n",
      "C:\\Users\\leone\\miniconda3\\lib\\site-packages\\openpyxl\\styles\\stylesheet.py:226: UserWarning: Workbook contains no default style, apply openpyxl's default\n",
      "  warn(\"Workbook contains no default style, apply openpyxl's default\")\n"
     ]
    },
    {
     "name": "stdout",
     "output_type": "stream",
     "text": [
      "Carregando arquivo {0}... 18_Junho.22.xlsx\n"
     ]
    },
    {
     "name": "stderr",
     "output_type": "stream",
     "text": [
      "C:\\Users\\leone\\AppData\\Local\\Temp\\ipykernel_3300\\2339940194.py:6: FutureWarning: The frame.append method is deprecated and will be removed from pandas in a future version. Use pandas.concat instead.\n",
      "  df1 = df1.append(pd.read_excel(leitura_arquivos_pesquisas+entrada_pesquisas), ignore_index=True)\n",
      "C:\\Users\\leone\\miniconda3\\lib\\site-packages\\openpyxl\\styles\\stylesheet.py:226: UserWarning: Workbook contains no default style, apply openpyxl's default\n",
      "  warn(\"Workbook contains no default style, apply openpyxl's default\")\n"
     ]
    },
    {
     "name": "stdout",
     "output_type": "stream",
     "text": [
      "Carregando arquivo {0}... 19_Julho.22.xlsx\n"
     ]
    },
    {
     "name": "stderr",
     "output_type": "stream",
     "text": [
      "C:\\Users\\leone\\AppData\\Local\\Temp\\ipykernel_3300\\2339940194.py:6: FutureWarning: The frame.append method is deprecated and will be removed from pandas in a future version. Use pandas.concat instead.\n",
      "  df1 = df1.append(pd.read_excel(leitura_arquivos_pesquisas+entrada_pesquisas), ignore_index=True)\n",
      "C:\\Users\\leone\\miniconda3\\lib\\site-packages\\openpyxl\\styles\\stylesheet.py:226: UserWarning: Workbook contains no default style, apply openpyxl's default\n",
      "  warn(\"Workbook contains no default style, apply openpyxl's default\")\n"
     ]
    },
    {
     "name": "stdout",
     "output_type": "stream",
     "text": [
      "Carregando arquivo {0}... 20_Agosto.22.xlsx\n"
     ]
    },
    {
     "name": "stderr",
     "output_type": "stream",
     "text": [
      "C:\\Users\\leone\\AppData\\Local\\Temp\\ipykernel_3300\\2339940194.py:6: FutureWarning: The frame.append method is deprecated and will be removed from pandas in a future version. Use pandas.concat instead.\n",
      "  df1 = df1.append(pd.read_excel(leitura_arquivos_pesquisas+entrada_pesquisas), ignore_index=True)\n"
     ]
    }
   ],
   "source": [
    "linhas_apagar = 2\n",
    "for entrada_pesquisas in lista_entrada_pesquisas:\n",
    "    if entrada_pesquisas.endswith(\".xlsx\"):\n",
    "        print('Carregando arquivo {0}...',format(entrada_pesquisas))\n",
    "        df1 = df1[:-2]\n",
    "        df1 = df1.append(pd.read_excel(leitura_arquivos_pesquisas+entrada_pesquisas), ignore_index=True)"
   ]
  },
  {
   "cell_type": "code",
   "execution_count": 8,
   "metadata": {},
   "outputs": [],
   "source": [
    "df = df[:-2]\n",
    "df.to_csv(gravacao_arquivos+'consolidado_chamados.csv')  \n",
    "df1 = df1[:-2]\n",
    "df1.to_csv(gravacao_arquivos+'consolidado_pesquisas.csv')  "
   ]
  }
 ],
 "metadata": {
  "kernelspec": {
   "display_name": "Python 3 (ipykernel)",
   "language": "python",
   "name": "python3"
  },
  "language_info": {
   "codemirror_mode": {
    "name": "ipython",
    "version": 3
   },
   "file_extension": ".py",
   "mimetype": "text/x-python",
   "name": "python",
   "nbconvert_exporter": "python",
   "pygments_lexer": "ipython3",
   "version": "3.8.13"
  },
  "vscode": {
   "interpreter": {
    "hash": "173569d8e49909fb15d9b3cdd788576ba8730883a9d2cd6126e04809ea4ad8a6"
   }
  }
 },
 "nbformat": 4,
 "nbformat_minor": 2
}
